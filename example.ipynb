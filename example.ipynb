{
 "cells": [
  {
   "cell_type": "code",
   "execution_count": null,
   "metadata": {},
   "outputs": [],
   "source": [
    "import siibra\n",
    "from nibabel import Nifti1Image\n",
    "from nilearn import plotting\n",
    "import numpy as np\n",
    "import matplotlib.pyplot as plt\n",
    "%matplotlib notebook"
   ]
  },
  {
   "cell_type": "markdown",
   "metadata": {},
   "source": [
    "## Create an artificial input image volume with activation blobs\n",
    "\n",
    "We sample anatomical locations from known regions in the DiFuMo64 parcellation, which represents functional modules, and create a Nifti volume with Gaussian activation blobs at these locations as an artificial input signal."
   ]
  },
  {
   "cell_type": "code",
   "execution_count": null,
   "metadata": {},
   "outputs": [],
   "source": [
    "space = siibra.spaces.MNI152_2009C_NONL_ASYM\n",
    "difumo64 = siibra.parcellations.DIFUMO_64.get_map(space)\n",
    "regions = ['Heschl', 'Fusiform']"
   ]
  },
  {
   "cell_type": "code",
   "execution_count": null,
   "metadata": {},
   "outputs": [],
   "source": [
    "# create empty volume in the reference space\n",
    "tpl = space.get_template().fetch()\n",
    "blobimg = Nifti1Image(np.zeros_like(tpl.get_fdata()), tpl.affine)\n",
    "blobarr = np.asanyarray(blobimg.dataobj)\n",
    "\n",
    "gaussian_blob = siibra.volumes.util.create_gaussian_kernel(4)\n",
    "w = gaussian_blob.shape[0]//2\n",
    "\n",
    "for regionspec in regions:\n",
    "    \n",
    "    # get voxel position of a point in the region\n",
    "    point = difumo64.decode_region(regionspec).centroids(space)[0]\n",
    "    x, y, z = map(int, point.transform(np.linalg.inv(tpl.affine)))\n",
    "\n",
    "    # place gaussian blob at that position\n",
    "    blobarr[x-w:x+w+1, y-w:y+w+1, z-w:z+w+1] = gaussian_blob\n",
    "    \n",
    "# plot the resulting blob image\n",
    "plotting.plot_glass_brain(blobimg)"
   ]
  },
  {
   "cell_type": "markdown",
   "metadata": {},
   "source": [
    "## Run anatomical assignment\n",
    "\n",
    "\n",
    "The assignment quereis datasets from the EBRAINS Knowledge Graph, so we have to pass a valid access token. This requires you to register an EBRAINS account, for more details see the documentation at https://siibra-python.readthedocs.io/en/latest/start.html#access-to-ebrains."
   ]
  },
  {
   "cell_type": "code",
   "execution_count": null,
   "metadata": {},
   "outputs": [],
   "source": [
    "siibra.fetch_ebrains_token()"
   ]
  },
  {
   "cell_type": "code",
   "execution_count": null,
   "metadata": {},
   "outputs": [],
   "source": [
    "from siibra_toolbox_neuroimaging import AnatomicalAssignment\n",
    "assignment = AnatomicalAssignment()"
   ]
  },
  {
   "cell_type": "code",
   "execution_count": null,
   "metadata": {},
   "outputs": [],
   "source": [
    "assignments, component_mask = assignment.analyze(blobimg)\n",
    "assignment.create_report(assignments, blobimg, component_mask)"
   ]
  }
 ],
 "metadata": {
  "kernelspec": {
   "display_name": "Python 3",
   "language": "python",
   "name": "python3"
  },
  "language_info": {
   "codemirror_mode": {
    "name": "ipython",
    "version": 3
   },
   "file_extension": ".py",
   "mimetype": "text/x-python",
   "name": "python",
   "nbconvert_exporter": "python",
   "pygments_lexer": "ipython3",
   "version": "3.8.0"
  }
 },
 "nbformat": 4,
 "nbformat_minor": 4
}
